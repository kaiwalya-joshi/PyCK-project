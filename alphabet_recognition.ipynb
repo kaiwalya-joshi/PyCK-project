{
 "cells": [
  {
   "cell_type": "markdown",
   "metadata": {},
   "source": [
    "# Initialize things "
   ]
  },
  {
   "cell_type": "code",
   "execution_count": 1,
   "metadata": {},
   "outputs": [],
   "source": [
    "#import things\n",
    "\n",
    "import cv2\n",
    "import numpy  as np\n",
    "from collections import deque\n",
    "import time\n"
   ]
  },
  {
   "cell_type": "code",
   "execution_count": 2,
   "metadata": {},
   "outputs": [],
   "source": [
    "from keras.models import load_model\n",
    "cnn_model = load_model('emnist_cnn_model.h5')"
   ]
  },
  {
   "cell_type": "code",
   "execution_count": 3,
   "metadata": {},
   "outputs": [],
   "source": [
    "prediction_dict = {0: 'a', 1: 'b', 2: 'c', 3: 'd', 4: 'e', 5: 'f', 6: 'g', 7: 'h', 8: 'i', 9: 'j', 10: 'k', 11: 'l',\n",
    "           12: 'm', 13: 'n', 14: 'o', 15: 'p', 16: 'q', 17: 'r', 18: 's', 19: 't', 20: 'u', 21: 'v', 22: 'w',\n",
    "           23: 'x', 24: 'y', 25: 'z', 26: ''}"
   ]
  },
  {
   "cell_type": "code",
   "execution_count": 4,
   "metadata": {},
   "outputs": [],
   "source": [
    "# define color limits\n",
    "\n",
    "red_upper = (170,100,60)\n",
    "red_lower = (180,255,255)\n",
    "\n",
    "points = deque(maxlen = 512)\n",
    "kernel = np.ones((5, 5), np.uint8)\n",
    "\n",
    "#define blackboard and alphabets\n",
    "blackboard = np.zeros((480, 640, 3), dtype=np.uint8)\n",
    "alphabet = np.zeros((300, 300, 3), dtype=np.uint8)\n",
    "\n",
    "prediction = 26 #default prediction\n",
    "center = None\n"
   ]
  },
  {
   "cell_type": "markdown",
   "metadata": {},
   "source": [
    "# Capture the written letter"
   ]
  },
  {
   "cell_type": "code",
   "execution_count": 5,
   "metadata": {},
   "outputs": [
    {
     "name": "stdout",
     "output_type": "stream",
     "text": [
      "The predicted alphabet was p\n",
      "The predicted alphabet was w\n"
     ]
    }
   ],
   "source": [
    "\n",
    "cap = cv2.VideoCapture(0)\n",
    "    \n",
    "while True:\n",
    "    _, frame = cap.read()\n",
    "    frame = cv2.flip(frame, 1)\n",
    "    #hsv\n",
    "    hsv = cv2.cvtColor(frame, cv2.COLOR_BGR2HSV)\n",
    "    #red\n",
    "    red = cv2.inRange(hsv, red_upper, red_lower)\n",
    "    #Preprocessing the  image\n",
    "    red = cv2.morphologyEx(red, cv2.MORPH_OPEN, kernel) \n",
    "    red_median = cv2.medianBlur(red, 15)\n",
    "    \n",
    "   \n",
    "    #find contours\n",
    "    contours, _ = cv2.findContours(red_median, cv2.RETR_TREE, cv2.CHAIN_APPROX_SIMPLE)\n",
    "    if len(contours) > 0:\n",
    "        contour_list = sorted(contours, key = cv2.contourArea, reverse = True)\n",
    "        contour = contour_list[0]\n",
    "        #find centroid\n",
    "        M = cv2.moments(contour) #M will be a dict\n",
    "        try:\n",
    "            centroid_x = int(M[\"m10\"]/M[\"m00\"])\n",
    "            centroid_y = int(M[\"m01\"]/M[\"m00\"])\n",
    "        except:\n",
    "            pass\n",
    "        \n",
    "        centroid = (centroid_x, centroid_y)\n",
    "        #append centroid in points\n",
    "        points.appendleft(centroid)\n",
    "        #draw circle\n",
    "        ((x,y), r) = cv2.minEnclosingCircle(contour)\n",
    "        cv2.circle(frame, (int(x),int(y)), int(r), (255,215,0), 2)\n",
    "   \n",
    "    elif (len(contours)==0):\n",
    "        if(len(points) != 0): #means there is some letter which was written and now the object is taken away\n",
    "            blackboard_gray = cv2.cvtColor(blackboard, cv2.COLOR_BGR2GRAY)\n",
    "            blur = cv2.medianBlur(blackboard_gray, 15)\n",
    "            blur = cv2.GaussianBlur(blur, (5, 5), 0)\n",
    "            thresh = cv2.threshold(blur, 0, 255, cv2.THRESH_BINARY + cv2.THRESH_OTSU)[1]\n",
    "            \n",
    "            blackboard_cnts = cv2.findContours(thresh, cv2.RETR_TREE, cv2.CHAIN_APPROX_NONE)[0]\n",
    "            if len(blackboard_cnts) >= 1:\n",
    "                #sorting all the contours to get the largest one\n",
    "                contour = sorted(blackboard_cnts, key = cv2.contourArea, reverse = True)[0]\n",
    "\n",
    "                if cv2.contourArea(contour) > 1000: #applying area condition to prevent noise from getting selected\n",
    "                    x, y, w, h = cv2.boundingRect(contour)\n",
    "                    alphabet = blackboard_gray[y-10:y + h + 10, x-10:x + w + 10]\n",
    "                \n",
    "                    try:\n",
    "                        final_alphabet = cv2.resize(alphabet, (28,28))\n",
    "                        # this is the final alphabet image \n",
    "                    except cv2.error as e:\n",
    "                        points = deque(maxlen=512)\n",
    "                        blackboard = np.zeros((480, 640, 3), dtype=np.uint8)\n",
    "                        continue\n",
    "                        \n",
    "                    final_alphabet = np.array(final_alphabet)\n",
    "                    final_alphabet = final_alphabet.astype(\"float32\")/255\n",
    "                    \n",
    "                    prediction = cnn_model.predict(final_alphabet.reshape(1,28,28,1))[0]\n",
    "                    prediction = np.argmax(prediction)\n",
    "                    print(f\"The predicted alphabet was {prediction_dict[int(prediction)]}\")#final output from model\n",
    "                \n",
    "        # Empty the points deque and the blackboard\n",
    "        cv2.imshow(\"Blackboard\", blackboard)\n",
    "        blackboard = np.zeros((480, 640, 3), dtype=np.uint8)\n",
    "        points = deque(maxlen=512)\n",
    "        \n",
    "    #connecting the points with the lines\n",
    "    for i in range(1, len(points)):\n",
    "        if points[i - 1] is None or points[i] is None:\n",
    "            continue\n",
    "        cv2.line(frame, tuple(map(int,points[i-1])),tuple(map(int,points[i])) ,(0,0,0), 2)\n",
    "        cv2.line(blackboard, tuple(map(int,points[i-1])), tuple(map(int,points[i])), (255,255,255), 8)\n",
    "        \n",
    "    # Show the frame\n",
    "    \n",
    "\n",
    "    cv2.putText(frame, \"Convolution Neural Network:  \" + str(prediction_dict[int(prediction)]), (10, 440), cv2.FONT_HERSHEY_SIMPLEX, 0.7, (255, 255, 255), 2)\n",
    "    cv2.imshow(\"alphabets Recognition Real Time\", frame) \n",
    "    \n",
    "    if cv2.waitKey(1) &  0xFF == ord(\"q\"):\n",
    "        break\n",
    "cap.release()\n",
    "cv2.destroyAllWindows()\n"
   ]
  },
  {
   "cell_type": "markdown",
   "metadata": {},
   "source": [
    "# Displaying movie suggestions"
   ]
  },
  {
   "cell_type": "code",
   "execution_count": 6,
   "metadata": {},
   "outputs": [],
   "source": [
    "import pyttsx3\n",
    "import pandas as pd\n",
    "import random\n",
    "\n",
    "engine = pyttsx3.init()\n",
    "titles = pd.read_csv('titles.csv')\n",
    "\n",
    "#extracting content from the file\n",
    "initial = prediction_dict[int(prediction)]\n",
    "list_of_initial = titles[titles[\"title\"].str.startswith(initial.upper())]\n",
    "samples = list_of_initial.sample(n = 3).sort_values('year')\n",
    "names = [samples[\"title\"][int(index)] for index in samples.index]\n",
    "years = [samples[\"year\"][int(index)]for index in samples.index]\n",
    "content = [names[i] +\"   \"+ str(years[i])  for i in range(len(names))]\n",
    "\n",
    "#randomizing image to be shown\n",
    "i  =random.randrange(1,6)\n",
    "img_name = f\"image_{i}.jpg\"\n",
    "image = cv2.imread(img_name,cv2.IMREAD_UNCHANGED)\n",
    "r = 555.0 / image.shape[0]\n",
    "dim = (int(image.shape[1] * r), 555)\n",
    "\n",
    "# perform the resizing\n",
    "image = cv2.resize(image, dim, interpolation=cv2.INTER_AREA)\n",
    "image= cv2.drawMarker(image,(190,75),(44,15,66),20,3,8)\n",
    "\n",
    "while True:\n",
    "    cv2.putText(image, \"WE RECOMMEND YOU:\", (200,80), cv2.FONT_HERSHEY_COMPLEX, 0.8, (84,14,150), 2)\n",
    "    for i in range(len(names)):\n",
    "        cv2.putText(image, content[i], (200,130+50*i), cv2.FONT_HERSHEY_SIMPLEX, 0.8, (146,10,89), 2)\n",
    "    cv2.imshow(\"Recommendations\", image)\n",
    "    if cv2.waitKey(1) & 0xFF == ord(\"s\"):\n",
    "        engine.setProperty('rate', 175)     # setting up new voice rate\n",
    "        volume = engine.getProperty('volume')   #getting to know current volume level (min=0 and max=1)\n",
    "        engine.setProperty('volume',2) \n",
    "        engine.say(\"\\n\".join(names))\n",
    "        engine.runAndWait()\n",
    "        \n",
    "        break\n",
    "    elif cv2.waitKey(1) & 0xFF == ord(\"q\"):\n",
    "        break\n",
    "    \n",
    "\n",
    "\n",
    "cv2.destroyAllWindows()\n"
   ]
  },
  {
   "cell_type": "code",
   "execution_count": null,
   "metadata": {},
   "outputs": [],
   "source": []
  }
 ],
 "metadata": {
  "kernelspec": {
   "display_name": "Python 3",
   "language": "python",
   "name": "python3"
  },
  "language_info": {
   "codemirror_mode": {
    "name": "ipython",
    "version": 3
   },
   "file_extension": ".py",
   "mimetype": "text/x-python",
   "name": "python",
   "nbconvert_exporter": "python",
   "pygments_lexer": "ipython3",
   "version": "3.9.1"
  }
 },
 "nbformat": 4,
 "nbformat_minor": 5
}
