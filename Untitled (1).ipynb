{
 "cells": [
  {
   "cell_type": "markdown",
   "metadata": {},
   "source": [
    "# Importing and Splitting Dataset"
   ]
  },
  {
   "cell_type": "code",
   "execution_count": 1,
   "metadata": {
    "colab": {
     "base_uri": "https://localhost:8080/"
    },
    "id": "sXN0Lb7Gypb5",
    "outputId": "72f64c95-bf44-4fcf-83a0-3199951a4f3f"
   },
   "outputs": [
    {
     "name": "stdout",
     "output_type": "stream",
     "text": [
      "Requirement already satisfied: emnist in c:\\users\\prajwal\\appdata\\local\\programs\\python\\python39\\lib\\site-packages (0.0)\n",
      "Requirement already satisfied: numpy in c:\\users\\prajwal\\appdata\\local\\programs\\python\\python39\\lib\\site-packages (from emnist) (1.19.5)\n",
      "Requirement already satisfied: tqdm in c:\\users\\prajwal\\appdata\\local\\programs\\python\\python39\\lib\\site-packages (from emnist) (4.61.1)\n",
      "Requirement already satisfied: requests in c:\\users\\prajwal\\appdata\\local\\programs\\python\\python39\\lib\\site-packages (from emnist) (2.25.1)\n",
      "Requirement already satisfied: certifi>=2017.4.17 in c:\\users\\prajwal\\appdata\\local\\programs\\python\\python39\\lib\\site-packages (from requests->emnist) (2021.5.30)\n",
      "Requirement already satisfied: chardet<5,>=3.0.2 in c:\\users\\prajwal\\appdata\\local\\programs\\python\\python39\\lib\\site-packages (from requests->emnist) (4.0.0)\n",
      "Requirement already satisfied: urllib3<1.27,>=1.21.1 in c:\\users\\prajwal\\appdata\\local\\programs\\python\\python39\\lib\\site-packages (from requests->emnist) (1.26.6)\n",
      "Requirement already satisfied: idna<3,>=2.5 in c:\\users\\prajwal\\appdata\\local\\programs\\python\\python39\\lib\\site-packages (from requests->emnist) (2.10)\n"
     ]
    },
    {
     "name": "stderr",
     "output_type": "stream",
     "text": [
      "WARNING: You are using pip version 21.0.1; however, version 21.1.3 is available.\n",
      "You should consider upgrading via the 'c:\\users\\prajwal\\appdata\\local\\programs\\python\\python39\\python.exe -m pip install --upgrade pip' command.\n"
     ]
    }
   ],
   "source": [
    "!pip install emnist"
   ]
  },
  {
   "cell_type": "code",
   "execution_count": 2,
   "metadata": {
    "id": "4GO7Sbb4u_Ne"
   },
   "outputs": [],
   "source": [
    "import tensorflow as tf\n",
    "import numpy as np\n",
    "from emnist import extract_training_samples, extract_test_samples\n",
    "#extracting data from emnist dataset\n",
    "x_train, y_train = extract_training_samples('letters')\n",
    "x_test, y_test = extract_test_samples('letters')"
   ]
  },
  {
   "cell_type": "code",
   "execution_count": 3,
   "metadata": {
    "colab": {
     "base_uri": "https://localhost:8080/"
    },
    "id": "VX-P3v2Cu_Nh",
    "outputId": "859c8f77-db9d-47e4-e494-28992dfb9a09"
   },
   "outputs": [
    {
     "name": "stdout",
     "output_type": "stream",
     "text": [
      "(124800, 28, 28)\n",
      "(124800,)\n",
      "(20800, 28, 28)\n",
      "(20800,)\n",
      "uint8\n"
     ]
    }
   ],
   "source": [
    "print(x_train.shape)# Since we are using emnist dataset no need to make the image dimensions uniform \n",
    "print(y_train.shape)\n",
    "print(x_test.shape)\n",
    "print(y_test.shape)\n",
    "print(y_train.dtype) # y_test will also have the same datatype\n",
    "img_rows = img_cols = 28\n",
    "input_shape = (img_rows,img_cols,1)\n",
    "x_train , x_test= x_train.reshape(x_train.shape[0], img_rows, img_cols,1),x_test.reshape(x_test.shape[0], img_rows, img_cols,1)\n"
   ]
  },
  {
   "cell_type": "code",
   "execution_count": 4,
   "metadata": {
    "colab": {
     "base_uri": "https://localhost:8080/",
     "height": 283
    },
    "id": "_2eAH4Bju_Ni",
    "outputId": "8f41a4c5-b4c6-4e0b-eb11-ed8e9839a58f"
   },
   "outputs": [
    {
     "data": {
      "image/png": "[encoded data removed]",
      "text/plain": [
       "<Figure size 432x288 with 1 Axes>"
      ]
     },
     "metadata": {
      "needs_background": "light"
     },
     "output_type": "display_data"
    },
    {
     "name": "stdout",
     "output_type": "stream",
     "text": [
      "24\n"
     ]
    }
   ],
   "source": [
    "#displaying random image \n",
    "import matplotlib.pyplot as plt\n",
    "sample_img=x_train[27]\n",
    "plt.imshow(sample_img.reshape(28,28),cmap='gray')\n",
    "plt.show()\n",
    "print(y_train[27])"
   ]
  },
  {
   "cell_type": "code",
   "execution_count": 5,
   "metadata": {
    "colab": {
     "base_uri": "https://localhost:8080/",
     "height": 265
    },
    "id": "7DeXyAgdu_Ni",
    "outputId": "85c034f4-3201-481e-da0f-e925eab2bc65"
   },
   "outputs": [
    {
     "data": {
      "image/png": "[encoded data removed]",
      "text/plain": [
       "<Figure size 432x288 with 1 Axes>"
      ]
     },
     "metadata": {
      "needs_background": "light"
     },
     "output_type": "display_data"
    }
   ],
   "source": [
    "#Normalizing dataset \n",
    "x_train=tf.keras.utils.normalize(x_train,axis=1) \n",
    "x_test=tf.keras.utils.normalize(x_test,axis=1)\n",
    "sample_img=x_train[27]\n",
    "plt.imshow(sample_img.reshape(28,28),cmap='gray')\n",
    "plt.show() # after normalizing the intensity of the image decreases"
   ]
  },
  {
   "cell_type": "markdown",
   "metadata": {
    "id": "SqyHE_OZu_Nj"
   },
   "source": [
    "# One HOT encoding the labels"
   ]
  },
  {
   "cell_type": "code",
   "execution_count": 6,
   "metadata": {
    "colab": {
     "base_uri": "https://localhost:8080/"
    },
    "id": "jQpvVp9su_Nj",
    "outputId": "41357ca4-6cb4-4093-cebd-67174c9d3ef6"
   },
   "outputs": [
    {
     "name": "stdout",
     "output_type": "stream",
     "text": [
      "<class 'int'>\n",
      "<class 'int'>\n",
      "26\n",
      "[ 0  1  2  3  4  5  6  7  8  9 10 11 12 13 14 15 16 17 18 19 20 21 22 23\n",
      " 24 25]\n",
      "26\n",
      "[ 0  1  2  3  4  5  6  7  8  9 10 11 12 13 14 15 16 17 18 19 20 21 22 23\n",
      " 24 25]\n"
     ]
    }
   ],
   "source": [
    "#checking the no. of distinct elements in the labels \n",
    "depth_train = np.unique(y_train).size\n",
    "depth_test = np.unique(y_test).size\n",
    "\n",
    "print(type(depth_train))\n",
    "print(type(depth_test))\n",
    "\n",
    "#making the indices begin from 0\n",
    "y_train = y_train - 1\n",
    "y_test = y_test - 1\n",
    "\n",
    "#printing the labels\n",
    "print(depth_train)\n",
    "print(np.unique(y_train))\n",
    "print(depth_test)\n",
    "print(np.unique(y_test))\n",
    "num_classes=depth_train= depth_test\n"
   ]
  },
  {
   "cell_type": "code",
   "execution_count": 7,
   "metadata": {
    "colab": {
     "base_uri": "https://localhost:8080/"
    },
    "id": "SUSGpL9Eu_Nk",
    "outputId": "9a70d09f-f28f-44fc-cf74-8815d7ced398"
   },
   "outputs": [
    {
     "name": "stdout",
     "output_type": "stream",
     "text": [
      "tf.Tensor(\n",
      "[[0. 0. 0. ... 0. 0. 0.]\n",
      " [0. 0. 0. ... 0. 0. 0.]\n",
      " [0. 0. 0. ... 0. 0. 0.]\n",
      " ...\n",
      " [0. 0. 0. ... 0. 0. 0.]\n",
      " [0. 0. 0. ... 0. 0. 0.]\n",
      " [0. 0. 0. ... 0. 0. 0.]], shape=(124800, 26), dtype=float32)\n"
     ]
    }
   ],
   "source": [
    "#converting class vectors to binary class vectors\n",
    "y_train= tf.one_hot(y_train,depth_train,on_value=1.0, off_value=0.0,axis=-1)\n",
    "y_test= tf.one_hot(y_test,depth_test,on_value=1.0, off_value=0.0,axis=-1)\n",
    "print(y_train)"
   ]
  },
  {
   "cell_type": "markdown",
   "metadata": {
    "id": "YQRDbesXu_Nl"
   },
   "source": [
    "# Creating the model "
   ]
  },
  {
   "cell_type": "code",
   "execution_count": 1,
   "metadata": {
    "colab": {
     "base_uri": "https://localhost:8080/"
    },
    "id": "tkjAozjru_Nm",
    "outputId": "6409df41-681d-4e01-979f-b8b799d793d4"
   },
   "outputs": [
    {
     "ename": "ModuleNotFoundError",
     "evalue": "No module named 'tensorflow'",
     "output_type": "error",
     "traceback": [
      "\u001b[1;31m---------------------------------------------------------------------------\u001b[0m",
      "\u001b[1;31mModuleNotFoundError\u001b[0m                       Traceback (most recent call last)",
      "\u001b[1;32m<ipython-input-1-fc846490a920>\u001b[0m in \u001b[0;36m<module>\u001b[1;34m\u001b[0m\n\u001b[1;32m----> 1\u001b[1;33m \u001b[1;32mfrom\u001b[0m \u001b[0mtensorflow\u001b[0m\u001b[1;33m.\u001b[0m\u001b[0mkeras\u001b[0m\u001b[1;33m.\u001b[0m\u001b[0mmodels\u001b[0m \u001b[1;32mimport\u001b[0m \u001b[0mSequential\u001b[0m\u001b[1;33m\u001b[0m\u001b[1;33m\u001b[0m\u001b[0m\n\u001b[0m\u001b[0;32m      2\u001b[0m \u001b[1;32mfrom\u001b[0m \u001b[0mtensorflow\u001b[0m\u001b[1;33m.\u001b[0m\u001b[0mkeras\u001b[0m\u001b[1;33m.\u001b[0m\u001b[0mlayers\u001b[0m \u001b[1;32mimport\u001b[0m \u001b[0mDense\u001b[0m\u001b[1;33m,\u001b[0m \u001b[0mDropout\u001b[0m\u001b[1;33m,\u001b[0m \u001b[0mFlatten\u001b[0m\u001b[1;33m\u001b[0m\u001b[1;33m\u001b[0m\u001b[0m\n\u001b[0;32m      3\u001b[0m \u001b[1;32mfrom\u001b[0m \u001b[0mtensorflow\u001b[0m\u001b[1;33m.\u001b[0m\u001b[0mkeras\u001b[0m\u001b[1;33m.\u001b[0m\u001b[0mlayers\u001b[0m \u001b[1;32mimport\u001b[0m \u001b[0mConv2D\u001b[0m\u001b[1;33m,\u001b[0m \u001b[0mMaxPooling2D\u001b[0m\u001b[1;33m\u001b[0m\u001b[1;33m\u001b[0m\u001b[0m\n\u001b[0;32m      4\u001b[0m \u001b[1;32mfrom\u001b[0m \u001b[0mtensorflow\u001b[0m\u001b[1;33m.\u001b[0m\u001b[0mkeras\u001b[0m\u001b[1;33m.\u001b[0m\u001b[0mcallbacks\u001b[0m \u001b[1;32mimport\u001b[0m \u001b[0mTensorBoard\u001b[0m\u001b[1;33m\u001b[0m\u001b[1;33m\u001b[0m\u001b[0m\n\u001b[0;32m      5\u001b[0m \u001b[1;32mimport\u001b[0m \u001b[0mtime\u001b[0m\u001b[1;33m\u001b[0m\u001b[1;33m\u001b[0m\u001b[0m\n",
      "\u001b[1;31mModuleNotFoundError\u001b[0m: No module named 'tensorflow'"
     ]
    }
   ],
   "source": [
    "from tensorflow.keras.models import Sequential\n",
    "from tensorflow.keras.layers import Dense, Dropout, Flatten\n",
    "from tensorflow.keras.layers import Conv2D, MaxPooling2D\n",
    "from tensorflow.keras.callbacks import TensorBoard\n",
    "import time\n",
    "#Testing various CNN architectures \n",
    "conv_layers=[2]\n",
    "conv_layer_sizes=[64]\n",
    "dense_layer_sizes=[128]\n",
    "dense_layers=[1]\n",
    "\n",
    "for conv_layer in conv_layers:\n",
    "    for conv_layer_size in conv_layer_sizes:\n",
    "        for dense_layer in dense_layers:\n",
    "            for dense_layer_size in dense_layer_sizes:\n",
    "                NAME=f\"{conv_layer}-clayers-{conv_layer_size}-csize-{dense_layer}-dlayers-{dense_layer_size}-dsize-{int(time.time())}\"\n",
    "                tensorboard=TensorBoard(log_dir=f\"logs/{NAME}\")\n",
    "                model = Sequential()\n",
    "                model.add(Conv2D(32, kernel_size=(3, 3), activation='relu', input_shape=input_shape))#input layer\n",
    "                for i in range(conv_layer-1):\n",
    "                \n",
    "                    model.add(Conv2D(conv_layer_size, (3, 3), activation='relu'))\n",
    "                    model.add(MaxPooling2D(pool_size=(2, 2)))             \n",
    "                \n",
    "                model.add(Flatten())                \n",
    "                model.add(Dense( dense_layer_size, activation='relu'))\n",
    "                model.add(Dropout(0.5)) #prevent overfitting\n",
    "                for i in range(dense_layer-1):\n",
    "\n",
    "                    model.add(Dense( dense_layer_size, activation='relu'))\n",
    "                    model.add(Dropout(0.25))\n",
    "                    \n",
    "                model.add(Dense(num_classes, activation='softmax'))#final output layer\n",
    "                # Compile the model\n",
    "                model.compile(loss=tf.keras.losses.categorical_crossentropy, optimizer=tf.keras.optimizers.Adadelta(),\n",
    "                              metrics=['accuracy'])\n",
    "                model.fit(x_train,y_train,batch_size=128,epochs =10,validation_split=0.25,callbacks =[tensorboard],shuffle=True)\n"
   ]
  },
  {
   "cell_type": "code",
   "execution_count": null,
   "metadata": {
    "id": "iG8P084ku_Nm"
   },
   "outputs": [],
   "source": [
    "score = model.evaluate(x_test, y_test, verbose=0)\n",
    "print('Test loss:', score[0])\n",
    "print('Test accuracy:', score[1])"
   ]
  },
  {
   "cell_type": "code",
   "execution_count": null,
   "metadata": {
    "id": "CHsvnuMgu_Nm"
   },
   "outputs": [],
   "source": []
  },
  {
   "cell_type": "code",
   "execution_count": null,
   "metadata": {
    "id": "az7Ah8Gau_Nn"
   },
   "outputs": [],
   "source": []
  },
  {
   "cell_type": "code",
   "execution_count": null,
   "metadata": {
    "id": "jEMYEh8ou_Nn"
   },
   "outputs": [],
   "source": []
  },
  {
   "cell_type": "code",
   "execution_count": null,
   "metadata": {
    "id": "jbtIeHn1u_Nn"
   },
   "outputs": [],
   "source": []
  },
  {
   "cell_type": "code",
   "execution_count": null,
   "metadata": {
    "id": "cGT_FbJou_Nn"
   },
   "outputs": [],
   "source": []
  }
 ],
 "metadata": {
  "colab": {
   "collapsed_sections": [],
   "name": "Untitled.ipynb",
   "provenance": []
  },
  "kernelspec": {
   "display_name": "Python 3",
   "language": "python",
   "name": "python3"
  },
  "language_info": {
   "codemirror_mode": {
    "name": "ipython",
    "version": 3
   },
   "file_extension": ".py",
   "mimetype": "text/x-python",
   "name": "python",
   "nbconvert_exporter": "python",
   "pygments_lexer": "ipython3",
   "version": "3.8.8"
  }
 },
 "nbformat": 4,
 "nbformat_minor": 1
}
