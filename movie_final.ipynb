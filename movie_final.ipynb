{
 "cells": [
  {
   "cell_type": "code",
   "execution_count": 1,
   "id": "2cbf9ad3",
   "metadata": {},
   "outputs": [],
   "source": [
    "import cv2\n",
    "import pyttsx3\n",
    "import pandas as pd\n",
    "import numpy as np"
   ]
  },
  {
   "cell_type": "code",
   "execution_count": null,
   "id": "3aa441aa",
   "metadata": {},
   "outputs": [],
   "source": [
    "\n",
    "engine = pyttsx3.init()\n",
    "titles = pd.read_csv('data/titles.csv')\n",
    "    \n",
    "initial = prediction_dict[int(prediction)]\n",
    "list_of_initial = titles[titles[\"title\"].str.startswith(initial.upper())]\n",
    "samples = list_of_initial.sample(n = 5)\n",
    "names = [samples[\"title\"][int(index)] for index in samples.index]\n",
    "blackboard = np.zeros((500, 1000), np.uint8)\n",
    "engine.setProperty('rate', 175)     # setting up new voice rate\n",
    "volume = engine.getProperty('volume')   #getting to know current volume level (min=0 and max=1)\n",
    "engine.setProperty('volume',2) \n",
    "engine.say(\"\\n\".join(names))\n",
    "engine.runAndWait()\n",
    "while True:\n",
    "    cv2.putText(blackboard, \"WE RECOMMEND YOU:\", (100,100), cv2.FONT_HERSHEY_SIMPLEX, 0.8, (255,255,255), 2)\n",
    "    for i in range(len(names)):\n",
    "        cv2.putText(blackboard, names[i], (100,150+50*i), cv2.FONT_HERSHEY_SIMPLEX, 0.8, (255,255,255), 2)\n",
    "    cv2.imshow(\"blackboard\", blackboard)\n",
    "    if cv2.waitKey(1) & 0xFF == ord(\"q\"):\n",
    "        break\n",
    "    \n",
    "        \n",
    "cv2.destroyAllWindows()"
   ]
  }
 ],
 "metadata": {
  "kernelspec": {
   "display_name": "Python 3",
   "language": "python",
   "name": "python3"
  },
  "language_info": {
   "codemirror_mode": {
    "name": "ipython",
    "version": 3
   },
   "file_extension": ".py",
   "mimetype": "text/x-python",
   "name": "python",
   "nbconvert_exporter": "python",
   "pygments_lexer": "ipython3",
   "version": "3.6.9"
  }
 },
 "nbformat": 4,
 "nbformat_minor": 5
}
