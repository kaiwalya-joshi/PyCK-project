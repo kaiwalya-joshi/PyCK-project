{
 "cells": [
  {
   "cell_type": "markdown",
   "metadata": {},
   "source": [
    "# Importing and Splitting Dataset"
   ]
  },
  {
   "cell_type": "code",
   "execution_count": 2,
   "metadata": {},
   "outputs": [
    {
     "data": {
      "text/plain": [
       "array([[[0, 0, 0, ..., 0, 0, 0],\n",
       "        [0, 0, 0, ..., 0, 0, 0],\n",
       "        [0, 0, 0, ..., 0, 0, 0],\n",
       "        ...,\n",
       "        [0, 0, 0, ..., 0, 0, 0],\n",
       "        [0, 0, 0, ..., 0, 0, 0],\n",
       "        [0, 0, 0, ..., 0, 0, 0]],\n",
       "\n",
       "       [[0, 0, 0, ..., 0, 0, 0],\n",
       "        [0, 0, 0, ..., 0, 0, 0],\n",
       "        [0, 0, 0, ..., 0, 0, 0],\n",
       "        ...,\n",
       "        [0, 0, 0, ..., 0, 0, 0],\n",
       "        [0, 0, 0, ..., 0, 0, 0],\n",
       "        [0, 0, 0, ..., 0, 0, 0]],\n",
       "\n",
       "       [[0, 0, 0, ..., 0, 0, 0],\n",
       "        [0, 0, 0, ..., 0, 0, 0],\n",
       "        [0, 0, 0, ..., 0, 0, 0],\n",
       "        ...,\n",
       "        [0, 0, 0, ..., 0, 0, 0],\n",
       "        [0, 0, 0, ..., 0, 0, 0],\n",
       "        [0, 0, 0, ..., 0, 0, 0]],\n",
       "\n",
       "       ...,\n",
       "\n",
       "       [[0, 0, 0, ..., 0, 0, 0],\n",
       "        [0, 0, 0, ..., 0, 0, 0],\n",
       "        [0, 0, 0, ..., 0, 0, 0],\n",
       "        ...,\n",
       "        [0, 0, 0, ..., 0, 0, 0],\n",
       "        [0, 0, 0, ..., 0, 0, 0],\n",
       "        [0, 0, 0, ..., 0, 0, 0]],\n",
       "\n",
       "       [[0, 0, 0, ..., 0, 0, 0],\n",
       "        [0, 0, 0, ..., 0, 0, 0],\n",
       "        [0, 0, 0, ..., 0, 0, 0],\n",
       "        ...,\n",
       "        [0, 0, 0, ..., 0, 0, 0],\n",
       "        [0, 0, 0, ..., 0, 0, 0],\n",
       "        [0, 0, 0, ..., 0, 0, 0]],\n",
       "\n",
       "       [[0, 0, 0, ..., 0, 0, 0],\n",
       "        [0, 0, 0, ..., 0, 0, 0],\n",
       "        [0, 0, 0, ..., 0, 0, 0],\n",
       "        ...,\n",
       "        [0, 0, 0, ..., 0, 0, 0],\n",
       "        [0, 0, 0, ..., 0, 0, 0],\n",
       "        [0, 0, 0, ..., 0, 0, 0]]], dtype=uint8)"
      ]
     },
     "execution_count": 2,
     "metadata": {},
     "output_type": "execute_result"
    }
   ],
   "source": [
    "import tensorflow as tf\n",
    "import numpy as np\n",
    "from emnist import extract_training_samples, extract_test_samples\n",
    "x_train, y_train = extract_training_samples('letters')\n",
    "x_test, y_test = extract_test_samples('letters')\n",
    "x_train\n",
    "     "
   ]
  },
  {
   "cell_type": "code",
   "execution_count": 3,
   "metadata": {},
   "outputs": [
    {
     "name": "stdout",
     "output_type": "stream",
     "text": [
      "(124800, 28, 28)\n",
      "(124800,)\n",
      "(20800, 28, 28)\n",
      "(20800,)\n",
      "uint8\n"
     ]
    }
   ],
   "source": [
    "print(x_train.shape)# Since we are using emnist dataset no need to make the image dimensions uniform \n",
    "print(y_train.shape)\n",
    "print(x_test.shape)\n",
    "print(y_test.shape)\n",
    "print(y_train.dtype)# y_test will also have the same datatype\n",
    "img_rows = img_cols = 28\n",
    "input_shape = (img_rows,img_cols,1)\n",
    "x_train = x_train.reshape(x_train.shape[0], img_rows, img_cols, 1)\n",
    "x_test = x_test.reshape(x_test.shape[0], img_rows, img_cols, 1)"
   ]
  },
  {
   "cell_type": "code",
   "execution_count": 4,
   "metadata": {},
   "outputs": [
    {
     "name": "stdout",
     "output_type": "stream",
     "text": [
      "24\n"
     ]
    },
    {
     "data": {
      "image/png": "[encoded data removed]",
      "text/plain": [
       "<Figure size 432x288 with 1 Axes>"
      ]
     },
     "metadata": {
      "needs_background": "light"
     },
     "output_type": "display_data"
    }
   ],
   "source": [
    "import matplotlib.pyplot as plt\n",
    "sample_img=x_train[27]\n",
    "plt.imshow(sample_img,cmap='gray')\n",
    "print(y_train[27])"
   ]
  },
  {
   "cell_type": "code",
   "execution_count": 5,
   "metadata": {},
   "outputs": [
    {
     "data": {
      "text/plain": [
       "<matplotlib.image.AxesImage at 0x214641df8b0>"
      ]
     },
     "execution_count": 5,
     "metadata": {},
     "output_type": "execute_result"
    },
    {
     "data": {
      "image/png": "[encoded data removed]",
      "text/plain": [
       "<Figure size 432x288 with 1 Axes>"
      ]
     },
     "metadata": {
      "needs_background": "light"
     },
     "output_type": "display_data"
    }
   ],
   "source": [
    "#Normalizing dataset \n",
    "x_train=tf.keras.utils.normalize(x_train,axis=1) \n",
    "x_test=tf.keras.utils.normalize(x_test,axis=1)\n",
    "sample_img=x_train[27]\n",
    "plt.imshow(sample_img,cmap='gray')"
   ]
  },
  {
   "cell_type": "markdown",
   "metadata": {},
   "source": [
    "# One HOT encoding the labels"
   ]
  },
  {
   "cell_type": "code",
   "execution_count": 6,
   "metadata": {},
   "outputs": [
    {
     "name": "stdout",
     "output_type": "stream",
     "text": [
      "<class 'numpy.int32'>\n",
      "<class 'numpy.int32'>\n",
      "26\n",
      "[ 1  2  3  4  5  6  7  8  9 10 11 12 13 14 15 16 17 18 19 20 21 22 23 24\n",
      " 25 26]\n",
      "26\n",
      "[ 1  2  3  4  5  6  7  8  9 10 11 12 13 14 15 16 17 18 19 20 21 22 23 24\n",
      " 25 26]\n"
     ]
    }
   ],
   "source": [
    "from numpy import argmax\n",
    "depth_train = np.unique(y_train).size\n",
    "depth_test = np.unique(y_test).size\n",
    "depth_train= np.int32(depth_train)\n",
    "depth_test= np.int32(depth_test)\n",
    "print(type(depth_train))\n",
    "print(type(depth_test))\n",
    "print(depth_train)\n",
    "print(np.unique(y_train))\n",
    "print(depth_test)\n",
    "print(np.unique(y_test))\n",
    "\n",
    "num_classes=depth_train= depth_test"
   ]
  },
  {
   "cell_type": "code",
   "execution_count": 7,
   "metadata": {},
   "outputs": [
    {
     "name": "stdout",
     "output_type": "stream",
     "text": [
      "tf.Tensor(\n",
      "[[0. 0. 0. ... 1. 0. 0.]\n",
      " [0. 0. 0. ... 0. 0. 0.]\n",
      " [0. 0. 0. ... 0. 0. 0.]\n",
      " ...\n",
      " [0. 0. 0. ... 0. 0. 0.]\n",
      " [0. 0. 0. ... 0. 0. 0.]\n",
      " [0. 0. 0. ... 0. 0. 0.]], shape=(124800, 26), dtype=float32)\n"
     ]
    }
   ],
   "source": [
    "#converting class vectors to binary class vectors\n",
    "y_train= tf.one_hot(y_train,depth_train,on_value=1.0, off_value=0.0,axis=-1)\n",
    "y_test= tf.one_hot(y_test,depth_test,on_value=1.0, off_value=0.0,axis=-1)\n",
    "print(y_train)"
   ]
  },
  {
   "cell_type": "markdown",
   "metadata": {},
   "source": [
    "# Creating the model "
   ]
  },
  {
   "cell_type": "code",
   "execution_count": null,
   "metadata": {},
   "outputs": [
    {
     "name": "stdout",
     "output_type": "stream",
     "text": [
      "Epoch 1/10\n",
      "780/780 [==============================] - 116s 147ms/step - loss: 3.1322 - accuracy: 0.0410 - val_loss: 3.1241 - val_accuracy: 0.0546\n",
      "Epoch 2/10\n",
      "780/780 [==============================] - 118s 152ms/step - loss: 3.1217 - accuracy: 0.0532 - val_loss: 3.1120 - val_accuracy: 0.0831\n",
      "Epoch 3/10\n",
      "780/780 [==============================] - 122s 157ms/step - loss: 3.1099 - accuracy: 0.0698 - val_loss: 3.0975 - val_accuracy: 0.1169\n",
      "Epoch 4/10\n",
      "780/780 [==============================] - 122s 157ms/step - loss: 3.0945 - accuracy: 0.0875 - val_loss: 3.0788 - val_accuracy: 0.1607\n",
      "Epoch 5/10\n",
      "780/780 [==============================] - 122s 157ms/step - loss: 3.0749 - accuracy: 0.1058 - val_loss: 3.0540 - val_accuracy: 0.2080\n",
      "Epoch 6/10\n",
      "780/780 [==============================] - 124s 159ms/step - loss: 3.0494 - accuracy: 0.1233 - val_loss: 3.0214 - val_accuracy: 0.2508\n",
      "Epoch 7/10\n",
      "780/780 [==============================] - 130s 166ms/step - loss: 3.0151 - accuracy: 0.1427 - val_loss: 2.9786 - val_accuracy: 0.2862\n",
      "Epoch 8/10\n",
      "780/780 [==============================] - 126s 162ms/step - loss: 2.9719 - accuracy: 0.1616 - val_loss: 2.9234 - val_accuracy: 0.3137\n",
      "Epoch 9/10\n",
      "780/780 [==============================] - 116s 148ms/step - loss: 2.9203 - accuracy: 0.1787 - val_loss: 2.8545 - val_accuracy: 0.3357\n",
      "Epoch 10/10\n",
      "780/780 [==============================] - 115s 147ms/step - loss: 2.8531 - accuracy: 0.1988 - val_loss: 2.7701 - val_accuracy: 0.3570\n",
      "Epoch 1/10\n",
      "780/780 [==============================] - 136s 173ms/step - loss: 3.1310 - accuracy: 0.0432 - val_loss: 3.1219 - val_accuracy: 0.0583\n",
      "Epoch 2/10\n",
      "780/780 [==============================] - 127s 163ms/step - loss: 3.1184 - accuracy: 0.0585 - val_loss: 3.1077 - val_accuracy: 0.0851\n",
      "Epoch 3/10\n",
      "780/780 [==============================] - 129s 166ms/step - loss: 3.1038 - accuracy: 0.0728 - val_loss: 3.0900 - val_accuracy: 0.1172\n",
      "Epoch 4/10\n",
      "780/780 [==============================] - 129s 165ms/step - loss: 3.0852 - accuracy: 0.0920 - val_loss: 3.0665 - val_accuracy: 0.1548\n",
      "Epoch 5/10\n",
      "780/780 [==============================] - 132s 169ms/step - loss: 3.0595 - accuracy: 0.1127 - val_loss: 3.0338 - val_accuracy: 0.2034\n",
      "Epoch 6/10\n",
      "780/780 [==============================] - 133s 171ms/step - loss: 3.0237 - accuracy: 0.1322 - val_loss: 2.9880 - val_accuracy: 0.2617\n",
      "Epoch 7/10\n",
      "780/780 [==============================] - 135s 173ms/step - loss: 2.9748 - accuracy: 0.1594 - val_loss: 2.9238 - val_accuracy: 0.3190\n",
      "Epoch 8/10\n",
      "780/780 [==============================] - 129s 165ms/step - loss: 2.9069 - accuracy: 0.1895 - val_loss: 2.8351 - val_accuracy: 0.3686\n",
      "Epoch 9/10\n",
      "780/780 [==============================] - 129s 165ms/step - loss: 2.8159 - accuracy: 0.2212 - val_loss: 2.7169 - val_accuracy: 0.4014\n",
      "Epoch 10/10\n",
      "780/780 [==============================] - 125s 161ms/step - loss: 2.7035 - accuracy: 0.2487 - val_loss: 2.5707 - val_accuracy: 0.4229\n",
      "Epoch 1/10\n",
      "780/780 [==============================] - 144s 183ms/step - loss: 3.1270 - accuracy: 0.0466 - val_loss: 3.1137 - val_accuracy: 0.0545\n",
      "Epoch 2/10\n",
      "780/780 [==============================] - 149s 191ms/step - loss: 3.1082 - accuracy: 0.0653 - val_loss: 3.0919 - val_accuracy: 0.0909\n",
      "Epoch 3/10\n",
      "780/780 [==============================] - 140s 180ms/step - loss: 3.0852 - accuracy: 0.0882 - val_loss: 3.0634 - val_accuracy: 0.1596\n",
      "Epoch 4/10\n",
      "780/780 [==============================] - 140s 180ms/step - loss: 3.0538 - accuracy: 0.1157 - val_loss: 3.0232 - val_accuracy: 0.2272\n",
      "Epoch 5/10\n",
      "780/780 [==============================] - 147s 188ms/step - loss: 3.0095 - accuracy: 0.1471 - val_loss: 2.9649 - val_accuracy: 0.2857\n",
      "Epoch 6/10\n",
      "780/780 [==============================] - 146s 188ms/step - loss: 2.9456 - accuracy: 0.1778 - val_loss: 2.8795 - val_accuracy: 0.3438\n",
      "Epoch 7/10\n",
      "780/780 [==============================] - 145s 186ms/step - loss: 2.8528 - accuracy: 0.2173 - val_loss: 2.7563 - val_accuracy: 0.3953\n",
      "Epoch 8/10\n",
      "780/780 [==============================] - 141s 181ms/step - loss: 2.7235 - accuracy: 0.2584 - val_loss: 2.5885 - val_accuracy: 0.4331\n",
      "Epoch 9/10\n",
      "780/780 [==============================] - 142s 182ms/step - loss: 2.5650 - accuracy: 0.2943 - val_loss: 2.3845 - val_accuracy: 0.4582\n",
      "Epoch 10/10\n",
      "780/780 [==============================] - 143s 184ms/step - loss: 2.3908 - accuracy: 0.3239 - val_loss: 2.1726 - val_accuracy: 0.4763\n",
      "Epoch 1/10\n",
      "780/780 [==============================] - 129s 163ms/step - loss: 3.1341 - accuracy: 0.0409 - val_loss: 3.1311 - val_accuracy: 0.0595\n",
      "Epoch 2/10\n",
      "780/780 [==============================] - 125s 160ms/step - loss: 3.1314 - accuracy: 0.0432 - val_loss: 3.1281 - val_accuracy: 0.0781\n",
      "Epoch 3/10\n",
      "780/780 [==============================] - 122s 156ms/step - loss: 3.1287 - accuracy: 0.0487 - val_loss: 3.1250 - val_accuracy: 0.0963\n",
      "Epoch 4/10\n",
      "780/780 [==============================] - 120s 153ms/step - loss: 3.1262 - accuracy: 0.0528 - val_loss: 3.1217 - val_accuracy: 0.1107\n",
      "Epoch 5/10\n",
      "780/780 [==============================] - 118s 152ms/step - loss: 3.1232 - accuracy: 0.0566 - val_loss: 3.1178 - val_accuracy: 0.1156\n",
      "Epoch 6/10\n",
      "780/780 [==============================] - 116s 149ms/step - loss: 3.1202 - accuracy: 0.0610 - val_loss: 3.1133 - val_accuracy: 0.1202\n",
      "Epoch 7/10\n",
      "780/780 [==============================] - 120s 154ms/step - loss: 3.1158 - accuracy: 0.0653 - val_loss: 3.1080 - val_accuracy: 0.1193\n",
      "Epoch 8/10\n",
      "780/780 [==============================] - 118s 151ms/step - loss: 3.1116 - accuracy: 0.0683 - val_loss: 3.1016 - val_accuracy: 0.1222\n",
      "Epoch 9/10\n",
      "780/780 [==============================] - 117s 150ms/step - loss: 3.1057 - accuracy: 0.0711 - val_loss: 3.0939 - val_accuracy: 0.1254\n",
      "Epoch 10/10\n",
      "780/780 [==============================] - 114s 146ms/step - loss: 3.0995 - accuracy: 0.0741 - val_loss: 3.0847 - val_accuracy: 0.1298\n",
      "Epoch 1/10\n",
      "780/780 [==============================] - 125s 159ms/step - loss: 3.1346 - accuracy: 0.0386 - val_loss: 3.1308 - val_accuracy: 0.0389\n",
      "Epoch 2/10\n",
      "780/780 [==============================] - 126s 162ms/step - loss: 3.1321 - accuracy: 0.0405 - val_loss: 3.1276 - val_accuracy: 0.0449\n",
      "Epoch 3/10\n",
      "780/780 [==============================] - 128s 164ms/step - loss: 3.1293 - accuracy: 0.0456 - val_loss: 3.1245 - val_accuracy: 0.0539\n",
      "Epoch 4/10\n",
      "780/780 [==============================] - 129s 166ms/step - loss: 3.1263 - accuracy: 0.0487 - val_loss: 3.1210 - val_accuracy: 0.0655\n",
      "Epoch 5/10\n",
      "780/780 [==============================] - 129s 166ms/step - loss: 3.1234 - accuracy: 0.0524 - val_loss: 3.1170 - val_accuracy: 0.0799\n",
      "Epoch 6/10\n",
      "780/780 [==============================] - 129s 166ms/step - loss: 3.1199 - accuracy: 0.0563 - val_loss: 3.1123 - val_accuracy: 0.0970\n",
      "Epoch 7/10\n",
      "780/780 [==============================] - 127s 162ms/step - loss: 3.1154 - accuracy: 0.0608 - val_loss: 3.1064 - val_accuracy: 0.1156\n",
      "Epoch 8/10\n",
      "780/780 [==============================] - 129s 165ms/step - loss: 3.1103 - accuracy: 0.0634 - val_loss: 3.0993 - val_accuracy: 0.1348\n",
      "Epoch 9/10\n",
      "780/780 [==============================] - 128s 163ms/step - loss: 3.1041 - accuracy: 0.0689 - val_loss: 3.0903 - val_accuracy: 0.1520\n",
      "Epoch 10/10\n",
      "780/780 [==============================] - 129s 165ms/step - loss: 3.0955 - accuracy: 0.0741 - val_loss: 3.0789 - val_accuracy: 0.1682\n",
      "Epoch 1/10\n",
      "780/780 [==============================] - 149s 190ms/step - loss: 3.1322 - accuracy: 0.0404 - val_loss: 3.1259 - val_accuracy: 0.0662\n",
      "Epoch 2/10\n",
      "780/780 [==============================] - 147s 189ms/step - loss: 3.1262 - accuracy: 0.0474 - val_loss: 3.1187 - val_accuracy: 0.0841\n",
      "Epoch 3/10\n",
      "780/780 [==============================] - 135s 174ms/step - loss: 3.1199 - accuracy: 0.0528 - val_loss: 3.1107 - val_accuracy: 0.1073\n",
      "Epoch 4/10\n",
      "780/780 [==============================] - 143s 183ms/step - loss: 3.1128 - accuracy: 0.0583 - val_loss: 3.1014 - val_accuracy: 0.1373\n",
      "Epoch 5/10\n",
      "780/780 [==============================] - 156s 200ms/step - loss: 3.1041 - accuracy: 0.0672 - val_loss: 3.0898 - val_accuracy: 0.1704\n",
      "Epoch 6/10\n",
      "780/780 [==============================] - 140s 179ms/step - loss: 3.0931 - accuracy: 0.0754 - val_loss: 3.0751 - val_accuracy: 0.1950\n",
      "Epoch 7/10\n",
      "780/780 [==============================] - 136s 175ms/step - loss: 3.0801 - accuracy: 0.0811 - val_loss: 3.0564 - val_accuracy: 0.2164\n",
      "Epoch 8/10\n",
      "780/780 [==============================] - 136s 174ms/step - loss: 3.0630 - accuracy: 0.0895 - val_loss: 3.0322 - val_accuracy: 0.2371\n",
      "Epoch 9/10\n",
      "780/780 [==============================] - 139s 178ms/step - loss: 3.0417 - accuracy: 0.0985 - val_loss: 3.0010 - val_accuracy: 0.2551\n",
      "Epoch 10/10\n",
      "780/780 [==============================] - 317s 406ms/step - loss: 3.0135 - accuracy: 0.1091 - val_loss: 2.9608 - val_accuracy: 0.2778\n",
      "Epoch 1/10\n",
      " 22/780 [..............................] - ETA: 3:08 - loss: 3.1534 - accuracy: 0.0380"
     ]
    }
   ],
   "source": [
    "from tensorflow.keras.models import Sequential\n",
    "from tensorflow.keras.layers import Dense, Dropout, Flatten\n",
    "from tensorflow.keras.layers import Conv2D, MaxPooling2D\n",
    "from tensorflow.keras.callbacks import TensorBoard\n",
    "import time\n",
    "#Testing various CNN architectures \n",
    "conv_layers=[2,3]\n",
    "conv_layer_sizes=[64]\n",
    "dense_layer_sizes=[256,512]\n",
    "dense_layers=[1]\n",
    "\n",
    "for conv_layer in conv_layers:\n",
    "    for conv_layer_size in c2onv_layer_sizes:\n",
    "        for dense_layer in dense_layers:\n",
    "            for dense_layer_size in dense_layer_sizes:\n",
    "                NAME=f\"{conv_layer}-clayers-{conv_layer_size}-csize-{dense_layer}-dlayers-{dense_layer_size}-dsize-{int(time.time())}\"\n",
    "                tensorboard=TensorBoard(log_dir=f\"logs/{NAME}\")\n",
    "                model = Sequential()\n",
    "                model.add(Conv2D(32, kernel_size=(3, 3), activation='relu', input_shape=input_shape))#input layer\n",
    "                for i in range(conv_layer-1):\n",
    "                \n",
    "                    model.add(Conv2D(conv_layer_size, (3, 3), activation='relu'))\n",
    "                    model.add(MaxPooling2D(pool_size=(2, 2)))             \n",
    "                    model.add(Dropout(0.25)) #prevent overfitting\n",
    "                model.add(Flatten())\n",
    "                for i in range(dense_layer):\n",
    "\n",
    "                    model.add(Dense( dense_layer_size, activation='relu'))\n",
    "                    model.add(Dropout(0.5))\n",
    "                model.add(Dense(num_classes, activation='softmax'))#final output layer\n",
    "                              # Compile the model\n",
    "                model.compile(loss=tf.keras.losses.categorical_crossentropy, optimizer=tf.keras.optimizers.Adadelta(),\n",
    "                              metrics=['accuracy'])\n",
    "                model.fit(x_train,y_train,batch_size=128,epochs =10,validation_split=0.25,callbacks =[tensorboard])\n",
    "\n",
    "\n",
    "\n",
    "                \n",
    "\n",
    "\n"
   ]
  },
  {
   "cell_type": "code",
   "execution_count": 2,
   "metadata": {},
   "outputs": [
    {
     "name": "stderr",
     "output_type": "stream",
     "text": [
      "UsageError: Line magic function `%tensorboard` not found.\n"
     ]
    }
   ],
   "source": []
  },
  {
   "cell_type": "code",
   "execution_count": null,
   "metadata": {},
   "outputs": [],
   "source": []
  }
 ],
 "metadata": {
  "kernelspec": {
   "display_name": "Python 3",
   "language": "python",
   "name": "python3"
  },
  "language_info": {
   "codemirror_mode": {
    "name": "ipython",
    "version": 3
   },
   "file_extension": ".py",
   "mimetype": "text/x-python",
   "name": "python",
   "nbconvert_exporter": "python",
   "pygments_lexer": "ipython3",
   "version": "3.9.1"
  }
 },
 "nbformat": 4,
 "nbformat_minor": 4
}
