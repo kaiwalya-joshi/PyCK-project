{
 "cells": [
  {
   "cell_type": "code",
   "execution_count": 4,
   "id": "717acf3b",
   "metadata": {},
   "outputs": [],
   "source": [
    "#import things\n",
    "\n",
    "import cv2\n",
    "import numpy  as np\n",
    "from collections import deque\n",
    "import time"
   ]
  },
  {
   "cell_type": "code",
   "execution_count": 5,
   "id": "e0fe4677",
   "metadata": {},
   "outputs": [],
   "source": [
    "#define things\n",
    "\n",
    "points = deque(maxlen = 1000)\n",
    "red_upper = (150,150,50)\n",
    "red_lower = (200,255,150)\n",
    "blackboard = np.zeros((512,512), np.uint8)\n"
   ]
  },
  {
   "cell_type": "code",
   "execution_count": 8,
   "id": "5456a040",
   "metadata": {},
   "outputs": [],
   "source": [
    "start_time = time.time()\n",
    "\n",
    "\n",
    "cap = cv2.VideoCapture(0)\n",
    "points\n",
    "    \n",
    "while time.time() < start_time + 10:\n",
    "    _, frame = cap.read()\n",
    "    frame = cv2.flip(frame, 1)\n",
    "    #hsv\n",
    "    hsv = cv2.cvtColor(frame, cv2.COLOR_BGR2HSV)\n",
    "    #red\n",
    "    red = cv2.inRange(hsv, red_upper, red_lower)\n",
    "    #red median blur\n",
    "    red_median = cv2.medianBlur(red, 15)\n",
    "    #find contours\n",
    "    _, contours, _ = cv2.findContours(red_median, cv2.RETR_TREE, cv2.CHAIN_APPROX_SIMPLE)\n",
    "    try:\n",
    "        if len(contours) > 0:\n",
    "            contour_list = sorted(contours, key = cv2.contourArea, reverse = True)\n",
    "            contour = contour_list[0]\n",
    "            #find centroid\n",
    "            M = cv2.moments(contour) #M will be a dict\n",
    "            centroid_x = int(M[\"m10\"]/M[\"m00\"])\n",
    "            centroid_y = int(M[\"m01\"]/M[\"m00\"])\n",
    "            centroid = (centroid_x, centroid_y)\n",
    "            #append centroid in points\n",
    "            points.appendleft(centroid)\n",
    "            #draw circle\n",
    "            ((x,y), r) = cv2.minEnclosingCircle(contour)\n",
    "            cv2.circle(frame, (int(x),int(y)), int(r), (0,255,0), 2)\n",
    "    except ZeroDivisionError:\n",
    "        pass\n",
    "            \n",
    "    for i in range(1, len(points)):\n",
    "        cv2.line(frame, tuple(map(int,points[i])), tuple(map(int,points[i-1])), (0,0,0), 2)\n",
    "        cv2.line(blackboard, tuple(map(int,points[i])), tuple(map(int,points[i-1])), (255,255,255), 8)\n",
    "\n",
    "    cv2.imshow(\"frame\", frame)\n",
    "    cv2.imshow(\"blackboard\", blackboard)\n",
    "    \n",
    "    if cv2.waitKey(1) &  0xFF == ord(\"q\"):\n",
    "        break\n",
    "\n",
    "    \n",
    "blackboard_median = cv2.medianBlur(blackboard, 15)\n",
    "alphabet = cv2.resize(blackboard_median, (28,28))\n",
    "alphabet = np.array(alphabet)\n",
    "alphabet = alphabet.astype(\"float32\")/255\n",
    "\n",
    "\n",
    "    \n",
    "points = deque(maxlen = 1000)\n",
    "blackboard = np.zeros((512,512), np.uint8)\n",
    "\n",
    "cv2.destroyAllWindows()\n",
    "cap.release()"
   ]
  },
  {
   "cell_type": "code",
   "execution_count": 18,
   "id": "dccbdf14",
   "metadata": {},
   "outputs": [
    {
     "ename": "KeyboardInterrupt",
     "evalue": "",
     "output_type": "error",
     "traceback": [
      "\u001b[0;31m---------------------------------------------------------------------------\u001b[0m",
      "\u001b[0;31mKeyboardInterrupt\u001b[0m                         Traceback (most recent call last)",
      "\u001b[0;32m<ipython-input-18-85a586cc72ac>\u001b[0m in \u001b[0;36m<module>\u001b[0;34m\u001b[0m\n\u001b[0;32m----> 1\u001b[0;31m \u001b[0mwrite\u001b[0m\u001b[0;34m(\u001b[0m\u001b[0;34m)\u001b[0m\u001b[0;34m\u001b[0m\u001b[0;34m\u001b[0m\u001b[0m\n\u001b[0m",
      "\u001b[0;32m<ipython-input-17-7f13f3ad8d0f>\u001b[0m in \u001b[0;36mwrite\u001b[0;34m()\u001b[0m\n\u001b[1;32m     13\u001b[0m             \u001b[0mred\u001b[0m \u001b[0;34m=\u001b[0m \u001b[0mcv2\u001b[0m\u001b[0;34m.\u001b[0m\u001b[0minRange\u001b[0m\u001b[0;34m(\u001b[0m\u001b[0mhsv\u001b[0m\u001b[0;34m,\u001b[0m \u001b[0mred_upper\u001b[0m\u001b[0;34m,\u001b[0m \u001b[0mred_lower\u001b[0m\u001b[0;34m)\u001b[0m\u001b[0;34m\u001b[0m\u001b[0;34m\u001b[0m\u001b[0m\n\u001b[1;32m     14\u001b[0m             \u001b[0;31m#red median blur\u001b[0m\u001b[0;34m\u001b[0m\u001b[0;34m\u001b[0m\u001b[0;34m\u001b[0m\u001b[0m\n\u001b[0;32m---> 15\u001b[0;31m             \u001b[0mred_median\u001b[0m \u001b[0;34m=\u001b[0m \u001b[0mcv2\u001b[0m\u001b[0;34m.\u001b[0m\u001b[0mmedianBlur\u001b[0m\u001b[0;34m(\u001b[0m\u001b[0mred\u001b[0m\u001b[0;34m,\u001b[0m \u001b[0;36m15\u001b[0m\u001b[0;34m)\u001b[0m\u001b[0;34m\u001b[0m\u001b[0;34m\u001b[0m\u001b[0m\n\u001b[0m\u001b[1;32m     16\u001b[0m             \u001b[0;31m#find contours\u001b[0m\u001b[0;34m\u001b[0m\u001b[0;34m\u001b[0m\u001b[0;34m\u001b[0m\u001b[0m\n\u001b[1;32m     17\u001b[0m             \u001b[0m_\u001b[0m\u001b[0;34m,\u001b[0m \u001b[0mcontours\u001b[0m\u001b[0;34m,\u001b[0m \u001b[0m_\u001b[0m \u001b[0;34m=\u001b[0m \u001b[0mcv2\u001b[0m\u001b[0;34m.\u001b[0m\u001b[0mfindContours\u001b[0m\u001b[0;34m(\u001b[0m\u001b[0mred_median\u001b[0m\u001b[0;34m,\u001b[0m \u001b[0mcv2\u001b[0m\u001b[0;34m.\u001b[0m\u001b[0mRETR_TREE\u001b[0m\u001b[0;34m,\u001b[0m \u001b[0mcv2\u001b[0m\u001b[0;34m.\u001b[0m\u001b[0mCHAIN_APPROX_SIMPLE\u001b[0m\u001b[0;34m)\u001b[0m\u001b[0;34m\u001b[0m\u001b[0;34m\u001b[0m\u001b[0m\n",
      "\u001b[0;31mKeyboardInterrupt\u001b[0m: "
     ]
    }
   ],
   "source": [
    "write()"
   ]
  },
  {
   "cell_type": "code",
   "execution_count": 10,
   "id": "e929398a",
   "metadata": {},
   "outputs": [],
   "source": []
  },
  {
   "cell_type": "code",
   "execution_count": null,
   "id": "86657606",
   "metadata": {},
   "outputs": [],
   "source": []
  },
  {
   "cell_type": "code",
   "execution_count": null,
   "id": "2099e2ba",
   "metadata": {},
   "outputs": [],
   "source": []
  },
  {
   "cell_type": "code",
   "execution_count": null,
   "id": "e3c8b848",
   "metadata": {},
   "outputs": [],
   "source": []
  },
  {
   "cell_type": "code",
   "execution_count": null,
   "id": "84a5c0f9",
   "metadata": {},
   "outputs": [],
   "source": []
  },
  {
   "cell_type": "code",
   "execution_count": null,
   "id": "8d4e0331",
   "metadata": {},
   "outputs": [],
   "source": []
  }
 ],
 "metadata": {
  "kernelspec": {
   "display_name": "Python 3",
   "language": "python",
   "name": "python3"
  },
  "language_info": {
   "codemirror_mode": {
    "name": "ipython",
    "version": 3
   },
   "file_extension": ".py",
   "mimetype": "text/x-python",
   "name": "python",
   "nbconvert_exporter": "python",
   "pygments_lexer": "ipython3",
   "version": "3.6.9"
  }
 },
 "nbformat": 4,
 "nbformat_minor": 5
}
