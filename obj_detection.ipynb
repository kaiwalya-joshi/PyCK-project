{
 "cells": [
  {
   "cell_type": "code",
   "execution_count": 5,
   "id": "e9f4555b",
   "metadata": {},
   "outputs": [
    {
     "data": {
      "text/plain": [
       "array([[[0, 0, 0, ..., 0, 0, 0],\n",
       "        [0, 0, 0, ..., 0, 0, 0],\n",
       "        [0, 0, 0, ..., 0, 0, 0],\n",
       "        ...,\n",
       "        [0, 0, 0, ..., 0, 0, 0],\n",
       "        [0, 0, 0, ..., 0, 0, 0],\n",
       "        [0, 0, 0, ..., 0, 0, 0]],\n",
       "\n",
       "       [[0, 0, 0, ..., 0, 0, 0],\n",
       "        [0, 0, 0, ..., 0, 0, 0],\n",
       "        [0, 0, 0, ..., 0, 0, 0],\n",
       "        ...,\n",
       "        [0, 0, 0, ..., 0, 0, 0],\n",
       "        [0, 0, 0, ..., 0, 0, 0],\n",
       "        [0, 0, 0, ..., 0, 0, 0]],\n",
       "\n",
       "       [[0, 0, 0, ..., 0, 0, 0],\n",
       "        [0, 0, 0, ..., 0, 0, 0],\n",
       "        [0, 0, 0, ..., 0, 0, 0],\n",
       "        ...,\n",
       "        [0, 0, 0, ..., 0, 0, 0],\n",
       "        [0, 0, 0, ..., 0, 0, 0],\n",
       "        [0, 0, 0, ..., 0, 0, 0]],\n",
       "\n",
       "       ...,\n",
       "\n",
       "       [[0, 0, 0, ..., 0, 0, 0],\n",
       "        [0, 0, 0, ..., 0, 0, 0],\n",
       "        [0, 0, 0, ..., 0, 0, 0],\n",
       "        ...,\n",
       "        [0, 0, 0, ..., 0, 0, 0],\n",
       "        [0, 0, 0, ..., 0, 0, 0],\n",
       "        [0, 0, 0, ..., 0, 0, 0]],\n",
       "\n",
       "       [[0, 0, 0, ..., 0, 0, 0],\n",
       "        [0, 0, 0, ..., 0, 0, 0],\n",
       "        [0, 0, 0, ..., 0, 0, 0],\n",
       "        ...,\n",
       "        [0, 0, 0, ..., 0, 0, 0],\n",
       "        [0, 0, 0, ..., 0, 0, 0],\n",
       "        [0, 0, 0, ..., 0, 0, 0]],\n",
       "\n",
       "       [[0, 0, 0, ..., 0, 0, 0],\n",
       "        [0, 0, 0, ..., 0, 0, 0],\n",
       "        [0, 0, 0, ..., 0, 0, 0],\n",
       "        ...,\n",
       "        [0, 0, 0, ..., 0, 0, 0],\n",
       "        [0, 0, 0, ..., 0, 0, 0],\n",
       "        [0, 0, 0, ..., 0, 0, 0]]], dtype=uint8)"
      ]
     },
     "execution_count": 5,
     "metadata": {},
     "output_type": "execute_result"
    }
   ],
   "source": [
    "import tensorflow as tf\n",
    "import numpy as np\n",
    "from emnist import extract_training_samples, extract_test_samples\n",
    "x_train, y_train = extract_training_samples('letters')\n",
    "x_test, y_test = extract_test_samples('letters')\n",
    "x_train"
   ]
  },
  {
   "cell_type": "code",
   "execution_count": 6,
   "id": "bdd76263",
   "metadata": {},
   "outputs": [
    {
     "data": {
      "text/plain": [
       "array([ 0,  1,  2,  3,  4,  5,  6,  7,  8,  9, 10, 11, 12, 13, 14, 15, 16,\n",
       "       17, 18, 19, 20, 21, 22, 23, 24, 25], dtype=uint8)"
      ]
     },
     "execution_count": 6,
     "metadata": {},
     "output_type": "execute_result"
    }
   ],
   "source": [
    "y_train = np.array(y_train)\n",
    "t_test = np.array(y_test)\n",
    "y_train = y_train - 1\n",
    "y_test = y_test - 1\n",
    "np.unique(y_train)"
   ]
  },
  {
   "cell_type": "code",
   "execution_count": 7,
   "id": "d53d72f9",
   "metadata": {},
   "outputs": [],
   "source": [
    "#make pixel values from 0 to 1\n",
    "\n",
    "x_train = x_train/255.0\n",
    "x_test = x_test/255.0"
   ]
  },
  {
   "cell_type": "code",
   "execution_count": 8,
   "id": "bb41b591",
   "metadata": {},
   "outputs": [
    {
     "name": "stdout",
     "output_type": "stream",
     "text": [
      "WARNING:tensorflow:From /home/kaiwalya/.local/lib/python3.6/site-packages/tensorflow/python/ops/init_ops.py:1251: calling VarianceScaling.__init__ (from tensorflow.python.ops.init_ops) with dtype is deprecated and will be removed in a future version.\n",
      "Instructions for updating:\n",
      "Call initializer instance with the dtype argument instead of passing it to the constructor\n"
     ]
    }
   ],
   "source": [
    "model = tf.keras.Sequential([tf.keras.layers.Flatten(input_shape = (28,28))\n",
    "                            , tf.keras.layers.Dense(128, activation = 'relu')\n",
    "                            , tf.keras.layers.Dense(128, activation = 'relu')\n",
    "                            , tf.keras.layers.Dense(26)])"
   ]
  },
  {
   "cell_type": "code",
   "execution_count": 9,
   "id": "e1c1e50f",
   "metadata": {},
   "outputs": [],
   "source": [
    "#compile\n",
    "\n",
    "model.compile(optimizer = 'adam',\n",
    "              loss = tf.keras.losses.SparseCategoricalCrossentropy(from_logits = True),\n",
    "              metrics = ['accuracy'])"
   ]
  },
  {
   "cell_type": "code",
   "execution_count": 10,
   "id": "6d5a8cd4",
   "metadata": {},
   "outputs": [
    {
     "name": "stdout",
     "output_type": "stream",
     "text": [
      "Epoch 1/10\n",
      "124800/124800 [==============================] - 12s 96us/sample - loss: 0.6560 - acc: 0.8013\n",
      "Epoch 2/10\n",
      "124800/124800 [==============================] - 11s 88us/sample - loss: 0.3747 - acc: 0.8802\n",
      "Epoch 3/10\n",
      "124800/124800 [==============================] - 11s 88us/sample - loss: 0.3116 - acc: 0.8983\n",
      "Epoch 4/10\n",
      "124800/124800 [==============================] - 12s 96us/sample - loss: 0.2761 - acc: 0.9082\n",
      "Epoch 5/10\n",
      "124800/124800 [==============================] - 11s 88us/sample - loss: 0.2506 - acc: 0.9149\n",
      "Epoch 6/10\n",
      "124800/124800 [==============================] - 11s 88us/sample - loss: 0.2290 - acc: 0.9223\n",
      "Epoch 7/10\n",
      "124800/124800 [==============================] - 11s 90us/sample - loss: 0.2162 - acc: 0.9250\n",
      "Epoch 8/10\n",
      "124800/124800 [==============================] - 11s 90us/sample - loss: 0.2045 - acc: 0.9277\n",
      "Epoch 9/10\n",
      "124800/124800 [==============================] - 11s 91us/sample - loss: 0.1924 - acc: 0.9317\n",
      "Epoch 10/10\n",
      "124800/124800 [==============================] - 11s 90us/sample - loss: 0.1816 - acc: 0.9348\n"
     ]
    },
    {
     "data": {
      "text/plain": [
       "<tensorflow.python.keras.callbacks.History at 0x7ff3ff9f3a20>"
      ]
     },
     "execution_count": 10,
     "metadata": {},
     "output_type": "execute_result"
    }
   ],
   "source": [
    "#start training\n",
    "\n",
    "model.fit(x_train,y_train, epochs = 10)"
   ]
  },
  {
   "cell_type": "code",
   "execution_count": 11,
   "id": "ab6ae8cc",
   "metadata": {},
   "outputs": [],
   "source": [
    "#import things\n",
    "\n",
    "import cv2\n",
    "#import numpy  as np\n",
    "from collections import deque\n",
    "import time\n",
    "import pyttsx3\n"
   ]
  },
  {
   "cell_type": "code",
   "execution_count": 12,
   "id": "a808d277",
   "metadata": {},
   "outputs": [],
   "source": [
    "prediction_list = [\"a\", \"b\", \"c\", \"d\", \"e\", \"f\", \"g\", \"h\", \"i\", \"j\", \"k\", \"l\", \"m\", \"n\", \"o\", \"p\", \"q\", \"r\",\n",
    "                  \"s\", \"t\", \"u\", \"v\", \"w\", \"x\", \"y\", \"z\"]"
   ]
  },
  {
   "cell_type": "code",
   "execution_count": 13,
   "id": "2e39a07c",
   "metadata": {},
   "outputs": [],
   "source": [
    "#define things\n",
    "#engine = pyttsx3.init()\n",
    "points = deque(maxlen = 1000)\n",
    "red_upper = (150,150,50)\n",
    "red_lower = (200,255,150)\n",
    "blackboard = np.zeros((512,512), np.uint8)"
   ]
  },
  {
   "cell_type": "code",
   "execution_count": 21,
   "id": "5456a040",
   "metadata": {},
   "outputs": [
    {
     "name": "stdout",
     "output_type": "stream",
     "text": [
      "l\n"
     ]
    }
   ],
   "source": [
    "start_time = time.time()\n",
    "\n",
    "\n",
    "cap = cv2.VideoCapture(0)\n",
    "points\n",
    "    \n",
    "while time.time() < start_time + 20:\n",
    "    _, frame = cap.read()\n",
    "    frame = cv2.flip(frame, 1)\n",
    "    #hsv\n",
    "    hsv = cv2.cvtColor(frame, cv2.COLOR_BGR2HSV)\n",
    "    #red\n",
    "    red = cv2.inRange(hsv, red_upper, red_lower)\n",
    "    #red median blur\n",
    "    red_median = cv2.medianBlur(red, 15)\n",
    "    #find contours\n",
    "    _, contours, _ = cv2.findContours(red_median, cv2.RETR_TREE, cv2.CHAIN_APPROX_SIMPLE)\n",
    "    try:\n",
    "        if len(contours) > 0:\n",
    "            contour_list = sorted(contours, key = cv2.contourArea, reverse = True)\n",
    "            contour = contour_list[0]\n",
    "            #find centroid\n",
    "            M = cv2.moments(contour) #M will be a dict\n",
    "            centroid_x = int(M[\"m10\"]/M[\"m00\"])\n",
    "            centroid_y = int(M[\"m01\"]/M[\"m00\"])\n",
    "            centroid = (centroid_x, centroid_y)\n",
    "            #append centroid in points\n",
    "            points.appendleft(centroid)\n",
    "            #draw circle\n",
    "            ((x,y), r) = cv2.minEnclosingCircle(contour)\n",
    "            cv2.circle(frame, (int(x),int(y)), int(r), (0,255,0), 2)\n",
    "    except ZeroDivisionError:\n",
    "        pass\n",
    "            \n",
    "    for i in range(1, len(points)):\n",
    "        cv2.line(frame, tuple(map(int,points[i])), tuple(map(int,points[i-1])), (0,0,0), 2)\n",
    "        cv2.line(blackboard, tuple(map(int,points[i])), tuple(map(int,points[i-1])), (255,255,255), 8)\n",
    "\n",
    "    cv2.imshow(\"frame\", frame)\n",
    "    cv2.imshow(\"blackboard\", blackboard)\n",
    "    \n",
    "    if cv2.waitKey(1) &  0xFF == ord(\"q\"):\n",
    "        break\n",
    "\n",
    "    \n",
    "blackboard_median = cv2.medianBlur(blackboard, 15)\n",
    "alphabet = cv2.resize(blackboard_median, (28,28))\n",
    "alphabet = np.array(alphabet)\n",
    "alphabet = alphabet.astype(\"float32\")/255\n",
    "prediction = model.predict(alphabet.reshape(1,28,28))[0]\n",
    "prediction = np.argmax(prediction)\n",
    "print(prediction_list[prediction])\n",
    "\n",
    "\n",
    "#cv2.putText(blackboard, \"prediction\" + prediction_list[prediction], (20,450), cv2.FONT_HERSHEY_SIMPLEX,\n",
    "#           0.8, (255,255,255), 2)\n",
    "\n",
    "#while time.time() > start_time + 21 and time.time() < start_time + 25:\n",
    "#    cv2.imshow(\"blackboard\", blackboard)\n",
    "\n",
    "\n",
    "#    if cv2.waitKey(1) & 0xFF == ord(\"q\"):\n",
    "#        break\n",
    "    \n",
    "points = deque(maxlen = 1000)\n",
    "blackboard = np.zeros((512,512), np.uint8)\n",
    "\n",
    "cv2.destroyAllWindows()\n",
    "cap.release()"
   ]
  },
  {
   "cell_type": "code",
   "execution_count": null,
   "id": "febfd621",
   "metadata": {},
   "outputs": [],
   "source": []
  },
  {
   "cell_type": "code",
   "execution_count": null,
   "id": "dccbdf14",
   "metadata": {},
   "outputs": [],
   "source": []
  },
  {
   "cell_type": "code",
   "execution_count": 10,
   "id": "e929398a",
   "metadata": {},
   "outputs": [],
   "source": []
  },
  {
   "cell_type": "code",
   "execution_count": null,
   "id": "86657606",
   "metadata": {},
   "outputs": [],
   "source": []
  },
  {
   "cell_type": "code",
   "execution_count": null,
   "id": "2099e2ba",
   "metadata": {},
   "outputs": [],
   "source": []
  },
  {
   "cell_type": "code",
   "execution_count": null,
   "id": "e3c8b848",
   "metadata": {},
   "outputs": [],
   "source": []
  },
  {
   "cell_type": "code",
   "execution_count": null,
   "id": "84a5c0f9",
   "metadata": {},
   "outputs": [],
   "source": []
  },
  {
   "cell_type": "code",
   "execution_count": null,
   "id": "8d4e0331",
   "metadata": {},
   "outputs": [],
   "source": []
  }
 ],
 "metadata": {
  "kernelspec": {
   "display_name": "Python 3",
   "language": "python",
   "name": "python3"
  },
  "language_info": {
   "codemirror_mode": {
    "name": "ipython",
    "version": 3
   },
   "file_extension": ".py",
   "mimetype": "text/x-python",
   "name": "python",
   "nbconvert_exporter": "python",
   "pygments_lexer": "ipython3",
   "version": "3.6.9"
  }
 },
 "nbformat": 4,
 "nbformat_minor": 5
}
