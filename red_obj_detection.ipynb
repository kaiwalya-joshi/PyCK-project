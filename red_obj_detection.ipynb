{
 "cells": [
  {
   "cell_type": "code",
   "execution_count": 3,
   "id": "e1637f80",
   "metadata": {},
   "outputs": [
    {
     "ename": "ModuleNotFoundError",
     "evalue": "No module named 'training_fashion_mnist_dataset_practice'",
     "output_type": "error",
     "traceback": [
      "\u001b[0;31m---------------------------------------------------------------------------\u001b[0m",
      "\u001b[0;31mModuleNotFoundError\u001b[0m                       Traceback (most recent call last)",
      "\u001b[0;32m<ipython-input-3-a8ee8386794a>\u001b[0m in \u001b[0;36m<module>\u001b[0;34m\u001b[0m\n\u001b[1;32m      4\u001b[0m \u001b[0;32mimport\u001b[0m \u001b[0mnumpy\u001b[0m \u001b[0;32mas\u001b[0m \u001b[0mnp\u001b[0m\u001b[0;34m\u001b[0m\u001b[0;34m\u001b[0m\u001b[0m\n\u001b[1;32m      5\u001b[0m \u001b[0;32mfrom\u001b[0m \u001b[0mcollections\u001b[0m \u001b[0;32mimport\u001b[0m \u001b[0mdeque\u001b[0m\u001b[0;34m\u001b[0m\u001b[0;34m\u001b[0m\u001b[0m\n\u001b[0;32m----> 6\u001b[0;31m \u001b[0;32mimport\u001b[0m \u001b[0mtraining_fashion_mnist_dataset_practice\u001b[0m\u001b[0;34m.\u001b[0m\u001b[0mpy\u001b[0m\u001b[0;34m\u001b[0m\u001b[0;34m\u001b[0m\u001b[0m\n\u001b[0m",
      "\u001b[0;31mModuleNotFoundError\u001b[0m: No module named 'training_fashion_mnist_dataset_practice'"
     ]
    }
   ],
   "source": [
    "#importing stuff\n",
    "\n",
    "import cv2\n",
    "import numpy as np\n",
    "from collections import deque"
   ]
  },
  {
   "cell_type": "code",
   "execution_count": 31,
   "id": "42bc69ed",
   "metadata": {},
   "outputs": [],
   "source": [
    "#defining some stuff\n",
    "\n",
    "#define lower_red and upper_red\n",
    "redLower = np.array([170,100,60])\n",
    "redUpper = np.array([180,255,255])\n",
    "\n",
    "#define kernel\n",
    "kernel = np.ones((5,5), np.uint8)\n",
    "\n",
    "#points\n",
    "points = deque(maxlen=512)\n",
    "\n",
    "#get blackboard\n",
    "blackboard = np.zeros((480, 640, 3), dtype = np.uint8)\n",
    "\n",
    "counter = 0"
   ]
  },
  {
   "cell_type": "code",
   "execution_count": 33,
   "id": "60262ab8",
   "metadata": {},
   "outputs": [
    {
     "ename": "NameError",
     "evalue": "name 'letters' is not defined",
     "output_type": "error",
     "traceback": [
      "\u001b[0;31m---------------------------------------------------------------------------\u001b[0m",
      "\u001b[0;31mNameError\u001b[0m                                 Traceback (most recent call last)",
      "\u001b[0;32m<ipython-input-33-3b2014c16be9>\u001b[0m in \u001b[0;36m<module>\u001b[0;34m\u001b[0m\n\u001b[1;32m     95\u001b[0m         \u001b[0mcv2\u001b[0m\u001b[0;34m.\u001b[0m\u001b[0mline\u001b[0m\u001b[0;34m(\u001b[0m\u001b[0mblackboard\u001b[0m\u001b[0;34m,\u001b[0m \u001b[0mpoints\u001b[0m\u001b[0;34m[\u001b[0m\u001b[0mi\u001b[0m\u001b[0;34m-\u001b[0m\u001b[0;36m1\u001b[0m\u001b[0;34m]\u001b[0m\u001b[0;34m,\u001b[0m \u001b[0mpoints\u001b[0m\u001b[0;34m[\u001b[0m\u001b[0mi\u001b[0m\u001b[0;34m]\u001b[0m\u001b[0;34m,\u001b[0m \u001b[0;34m(\u001b[0m\u001b[0;36m255\u001b[0m\u001b[0;34m,\u001b[0m\u001b[0;36m255\u001b[0m\u001b[0;34m,\u001b[0m\u001b[0;36m255\u001b[0m\u001b[0;34m)\u001b[0m\u001b[0;34m,\u001b[0m \u001b[0;36m8\u001b[0m\u001b[0;34m)\u001b[0m\u001b[0;34m\u001b[0m\u001b[0;34m\u001b[0m\u001b[0m\n\u001b[1;32m     96\u001b[0m \u001b[0;34m\u001b[0m\u001b[0m\n\u001b[0;32m---> 97\u001b[0;31m     \u001b[0mcv2\u001b[0m\u001b[0;34m.\u001b[0m\u001b[0mputText\u001b[0m\u001b[0;34m(\u001b[0m\u001b[0mframe\u001b[0m\u001b[0;34m,\u001b[0m \u001b[0;34mf\"prediction: {letters[int(prediction)]}\"\u001b[0m\u001b[0;34m,\u001b[0m \u001b[0;34m(\u001b[0m\u001b[0;36m20\u001b[0m\u001b[0;34m,\u001b[0m\u001b[0;36m400\u001b[0m\u001b[0;34m)\u001b[0m\u001b[0;34m,\u001b[0m \u001b[0mcv2\u001b[0m\u001b[0;34m.\u001b[0m\u001b[0mFRONT_HERSHEY_SIMPLEX\u001b[0m\u001b[0;34m,\u001b[0m \u001b[0;36m0.8\u001b[0m\u001b[0;34m,\u001b[0m \u001b[0;34m(\u001b[0m\u001b[0;36m0\u001b[0m\u001b[0;34m,\u001b[0m\u001b[0;36m0\u001b[0m\u001b[0;34m,\u001b[0m\u001b[0;36m0\u001b[0m\u001b[0;34m)\u001b[0m\u001b[0;34m,\u001b[0m \u001b[0;36m2\u001b[0m\u001b[0;34m)\u001b[0m\u001b[0;34m\u001b[0m\u001b[0;34m\u001b[0m\u001b[0m\n\u001b[0m\u001b[1;32m     98\u001b[0m     \u001b[0mcv2\u001b[0m\u001b[0;34m.\u001b[0m\u001b[0mimshow\u001b[0m\u001b[0;34m(\u001b[0m\u001b[0;34m'frame'\u001b[0m\u001b[0;34m,\u001b[0m \u001b[0mframe\u001b[0m\u001b[0;34m)\u001b[0m\u001b[0;34m\u001b[0m\u001b[0;34m\u001b[0m\u001b[0m\n\u001b[1;32m     99\u001b[0m \u001b[0;34m\u001b[0m\u001b[0m\n",
      "\u001b[0;31mNameError\u001b[0m: name 'letters' is not defined"
     ]
    }
   ],
   "source": [
    "#starting video\n",
    "\n",
    "cap = cv2.VideoCapture(0)\n",
    "\n",
    "while True:\n",
    "    ret, frame = cap.read()\n",
    "    frame = cv2.flip(frame, 1) #to flip the video\n",
    "    \n",
    "    #creating hsv and gray\n",
    "    hsv = cv2.cvtColor(frame, cv2.COLOR_BGR2HSV)\n",
    "    gray = cv2.cvtColor(frame, cv2.COLOR_BGR2GRAY)\n",
    "    \n",
    "    #detecting which pixels falls under our category\n",
    "    red = cv2.inRange(hsv, redLower, redUpper)\n",
    "    \n",
    "    #processing the videos\n",
    "    red = cv2.erode(red, kernel) #erroded\n",
    "    red = cv2.morphologyEx(red, cv2.MORPH_OPEN, kernel) #opening\n",
    "    red = cv2.dilate(red, kernel) #dilation\n",
    "    \n",
    "    #playing video\n",
    "    \n",
    "    cv2.imshow('red', red)\n",
    "    \n",
    "    #find contour\n",
    "    _, contours, heirarchy = cv2.findContours(red, cv2.RETR_EXTERNAL, cv2.CHAIN_APPROX_SIMPLE)\n",
    "    \n",
    "    draw_contours = cv2.cvtColor(red, cv2.COLOR_GRAY2BGR)\n",
    "    cv2.drawContours(draw_contours, contours, -1, (0,255,0), 3)\n",
    "    cv2.imshow('draw_contours', draw_contours)\n",
    "    \n",
    "    centre = None\n",
    "    \n",
    "    #if any contour is found\n",
    "    if len(contours) > 0:\n",
    "        contour = sorted(contours, key = cv2.contourArea, reverse = True)[0] #contour = largest contour among all the contours found\n",
    "        ((x,y),radius) = cv2.minEnclosingCircle(contour)\n",
    "        cv2.circle(frame, (int(x), int(y)), int(radius), (125,344,278), 2)\n",
    "        \n",
    "        M = cv2.moments(contour) #M is a dict with 24 keys including m00,m10,m01.\n",
    "        centres = (int(M['m10']/M['m00']), int(M['m01']/M['m00'])) #centres = centroid of given contour.\n",
    "        points.appendleft(centre)\n",
    "        \n",
    "    #if no contours were found then it means that there is no red colour obj in surrounding\n",
    "        \n",
    "    elif len(contours) == 0:\n",
    "        \n",
    "        if len(points) != 0:\n",
    "            blackboard_gray = cv2.cvtcolor(blackboard, cv2.COLOR_BGR2GRAY)\n",
    "            blur = cv2.medianBlur(blackboard_gray, 15)\n",
    "            blur = cv2.GaussianBlur(blur, (5,5), 0)\n",
    "            thresh = cv2.thershold(blur, 0, 255, cv2.THERSH_BINARY + cv2.THRESH_OTSU)[1]\n",
    "            cv2.imshow('thresh', thresh)\n",
    "            blackboard_contours  = cv2.findContours(thresh, cv2.RETR_TREE, cv2.CHAIN_APPROX_NONE)[0]\n",
    "            \n",
    "            #debug\n",
    "            bb = cv2.cvtColor(thresh, cv2.COLOR_BGR2GRAY)\n",
    "            cv2.drawContours(bb, blackboard_contours, -1, (0,255,0), 3)\n",
    "            cv2.imshow('bb', bb)\n",
    "            \n",
    "            if len(blackboard_contours) >= 1:\n",
    "                contour = sorted(blackboard_contours, key = cv2.contourArea, reverse = True)[0]\n",
    "                \n",
    "                if cv2.conourArea(contour) > 1000:\n",
    "                    x, y, w, h = cv2.boundingRect(contour)\n",
    "                    alphabet = blackboard_gray[y-10:y+h+10, x-10:x+w+10]\n",
    "                    \n",
    "                    try:\n",
    "                        img = cv2.resize(alphabet, (28,28))\n",
    "                        cv2.imshow('alphabet', alphabet)\n",
    "                        \n",
    "                    except cv2.error as e:\n",
    "                        points = deque(maxlen = 512)\n",
    "                        blackboard = np.zeros((480, 640, 3), dtype = np.uint8)\n",
    "                        continue\n",
    "                        \n",
    "                    img = np.array(img)\n",
    "                    img = img.astype('float32')/255\n",
    "                    prediction = probability_model.predict(img.reshape(1,28,28))[0]\n",
    "                    prediction = np.argmax(prediction)\n",
    "                    \n",
    "                    #sound stuff\n",
    "                    #......\n",
    "                    \n",
    "            #empty deque and blackboard for next trail\n",
    "            points = deque(maxlen = 512)\n",
    "            blackboard = np.zeros((480, 640, 3), dtype = np.uint8)\n",
    "            \n",
    "    #connect the points with line and identify letter\n",
    "    \n",
    "    for i in range(1, len(points)):\n",
    "        if points[i-1] is None or points[i-1] is None:\n",
    "            continue\n",
    "        cv2.line(frame, points[i-1], points[i], (0,0,0), 8)\n",
    "        cv2.line(blackboard, points[i-1], points[i], (255,255,255), 8)\n",
    "        \n",
    "    cv2.putText(frame, f\"prediction: {class_name[int(np.argmax(prediction))]}\", (20,400), cv2.FRONT_HERSHEY_SIMPLEX, 0.8, (0,0,0), 2)\n",
    "    cv2.imshow('frame', frame)\n",
    "        \n",
    "        \n",
    "    if cv2.waitKey(1) & 0xFF == ord('q'):\n",
    "        break\n",
    "\n",
    "cap.release()\n",
    "cv2.destroyAllWindows()"
   ]
  },
  {
   "cell_type": "code",
   "execution_count": 23,
   "id": "807b4d35",
   "metadata": {},
   "outputs": [
    {
     "data": {
      "text/plain": [
       "18"
      ]
     },
     "execution_count": 23,
     "metadata": {},
     "output_type": "execute_result"
    }
   ],
   "source": [
    "len(contours)"
   ]
  },
  {
   "cell_type": "code",
   "execution_count": 26,
   "id": "65b98fa4",
   "metadata": {},
   "outputs": [],
   "source": [
    "cv2.imshow('blackboard', blackboard)"
   ]
  },
  {
   "cell_type": "code",
   "execution_count": null,
   "id": "4d5f7dd3",
   "metadata": {},
   "outputs": [],
   "source": []
  }
 ],
 "metadata": {
  "kernelspec": {
   "display_name": "Python 3",
   "language": "python",
   "name": "python3"
  },
  "language_info": {
   "codemirror_mode": {
    "name": "ipython",
    "version": 3
   },
   "file_extension": ".py",
   "mimetype": "text/x-python",
   "name": "python",
   "nbconvert_exporter": "python",
   "pygments_lexer": "ipython3",
   "version": "3.6.9"
  }
 },
 "nbformat": 4,
 "nbformat_minor": 5
}
